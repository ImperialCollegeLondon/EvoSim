{
 "cells": [
  {
   "cell_type": "markdown",
   "metadata": {
    "lines_to_next_cell": 2
   },
   "source": [
    "# How to compute and compare distances with different static allocators\n",
    "\n",
    "This example shows how to use the python API to:\n",
    "\n",
    "1. Create a fleet of electric vehicles, a charging-post infrastructure, and a\n",
    "   constraint\n",
    "1. Allocate fleet to infrastructure via the greedy and the random allocators\n",
    "1. Plot a comparison of the distance profiles\n",
    "\n",
    "## Setting up a problem with random inputs\n",
    "\n",
    "We create random fleets and charging points using the functions provided for that\n",
    "purpose in evosim. To simplify the problem a bit, we only use a subset of sockets.\n"
   ]
  },
  {
   "cell_type": "code",
   "execution_count": null,
   "metadata": {
    "lines_to_next_cell": 1
   },
   "outputs": [],
   "source": [
    "from functools import partial\n",
    "\n",
    "import numpy as np\n",
    "import pandas as pd\n",
    "import seaborn\n",
    "\n",
    "import evosim\n",
    "\n",
    "rng = np.random.default_rng(2)\n",
    "sockets = list(evosim.charging_posts.Sockets)[:4]\n",
    "charging_posts = evosim.charging_posts.random_charging_posts(\n",
    "    20000, capacity=3, socket_types=sockets, seed=rng,\n",
    ")\n",
    "fleet = evosim.fleet.random_fleet(40000, socket_types=sockets, seed=rng)\n",
    "matcher = evosim.matchers.factory([\"socket_compatibility\", \"charger_compatibility\"])"
   ]
  },
  {
   "cell_type": "markdown",
   "metadata": {},
   "source": [
    "## Computing distance profiles\n",
    "\n",
    "The distances can be computed using the function provided by evosim,\n",
    ":py:func:`evosim.objectives.haversine_distance`. To simplify things a bit, we create a\n",
    "function that takes a table describing the allocated fleet and a table describing the\n",
    "infrastructure and returns the distances for each electric vehicle to its allocatd\n",
    "post:"
   ]
  },
  {
   "cell_type": "code",
   "execution_count": null,
   "metadata": {
    "lines_to_next_cell": 0
   },
   "outputs": [],
   "source": [
    "def distances(fleet: pd.pandas, charging_posts: pd.pandas) -> pd.Series:\n",
    "    from evosim.objectives import haversine_distance\n",
    "\n",
    "    vehicles = fleet.loc[\n",
    "        fleet.allocation.notna(), [\"dest_lat\", \"dest_long\", \"allocation\"]\n",
    "    ].rename(columns=dict(dest_lat=\"latitude\", dest_long=\"longitude\"))\n",
    "    posts = charging_posts.loc[\n",
    "        vehicles.allocation, [\"latitude\", \"longitude\"]\n",
    "    ].set_index(vehicles.index)\n",
    "    return haversine_distance(vehicles, posts.set_index(vehicles.index))\n",
    "\n",
    "\n",
    "# In the function above, we simply avoid computing distances for unallocated vehicles.\n",
    "# Later, if we need it, we can recover the number of unallocated vehicles by comparing\n",
    "# the number of distances computed here and the size of the input fleet."
   ]
  },
  {
   "cell_type": "markdown",
   "metadata": {
    "lines_to_next_cell": 2
   },
   "source": [
    "The efficiency of the two algorithms depends on the inputs: for instance, the\n",
    "allocation will yield a better result if all vehicles and posts are compatible. So to\n",
    "compute the efficiency of the algorithms, we should sample a few different sets. Since\n",
    "we only care about the distribution of distances for each algorithm, we can simply\n",
    "concatenate the results of multiple runs together.\n"
   ]
  },
  {
   "cell_type": "code",
   "execution_count": null,
   "metadata": {
    "lines_to_next_cell": 2
   },
   "outputs": [],
   "source": [
    "def algo_distances(vehicles, posts, matcher, algorithm):\n",
    "    \"\"\"Composes distances and algorithm functions.\"\"\"\n",
    "    allocated = algorithm(vehicles, posts, matcher)\n",
    "    return distances(allocated, posts).to_numpy()\n",
    "\n",
    "\n",
    "nfleet = 500\n",
    "nrepeats = 10\n",
    "algorithms = dict(\n",
    "    random=partial(evosim.allocators.random_allocator, seed=rng),\n",
    "    greedy10=partial(evosim.allocators.greedy_allocator, nearest_neighbors=10),\n",
    "    greedy40=partial(evosim.allocators.greedy_allocator, nearest_neighbors=40),\n",
    "    greedy80=partial(evosim.allocators.greedy_allocator, nearest_neighbors=80),\n",
    ")\n",
    "data = {\n",
    "    algo: np.concatenate(\n",
    "        [\n",
    "            algo_distances(\n",
    "                fleet.sample(nfleet),\n",
    "                charging_posts.sample((nfleet * 4) // 5),\n",
    "                matcher,\n",
    "                method,\n",
    "            )\n",
    "            for _ in range(nrepeats)\n",
    "        ]\n",
    "    )\n",
    "    for algo, method in algorithms.items()\n",
    "}"
   ]
  },
  {
   "cell_type": "markdown",
   "metadata": {},
   "source": [
    "Here we ran the greedy allocator with two slightly different parameters. First we run\n",
    "it considering only the 10 nearest neighbors of any vehicles, and later we run it\n",
    "considering the first 40 neighbors. Considering more neighbors should result in fewer\n",
    "unallocated vehicles, but should be more computationally intensive. Indeed, if all\n",
    "vehicles cannot be allocated, the greedy allocator may issue a warning."
   ]
  },
  {
   "cell_type": "code",
   "execution_count": null,
   "metadata": {},
   "outputs": [],
   "source": [
    "pd.DataFrame(\n",
    "    dict(\n",
    "        algorithm=list(data.keys()),\n",
    "        allocated=[len(v) for v in data.values()],\n",
    "        unallocated=[nrepeats * nfleet - len(v) for v in data.values()],\n",
    "    )\n",
    ")"
   ]
  },
  {
   "cell_type": "markdown",
   "metadata": {
    "lines_to_next_cell": 3
   },
   "source": [
    "## Comparison of the distance distributions\n",
    "\n",
    "Now we plot the distribution of allocated distances for each algorithm under\n",
    "consideration."
   ]
  },
  {
   "cell_type": "code",
   "execution_count": null,
   "metadata": {},
   "outputs": [],
   "source": [
    "as_frame = pd.DataFrame(\n",
    "    dict(\n",
    "        algorithm=np.concatenate(\n",
    "            [[algo] * len(values) for algo, values in data.items()]\n",
    "        ),\n",
    "        distance=np.concatenate(list(data.values())),\n",
    "    )\n",
    ")\n",
    "seaborn.set_style(\"dark\")\n",
    "seaborn.violinplot(\n",
    "    x=\"algorithm\", y=\"distance\", scale=\"count\", inner=\"quartile\", data=as_frame\n",
    ")"
   ]
  }
 ],
 "metadata": {
  "celltoolbar": "Raw Cell Format",
  "jupytext": {
   "formats": "ipynb,py:percent"
  },
  "kernelspec": {
   "display_name": "Python 3",
   "language": "python",
   "name": "python3"
  },
  "language_info": {
   "codemirror_mode": {
    "name": "ipython",
    "version": 3
   },
   "file_extension": ".py",
   "mimetype": "text/x-python",
   "name": "python",
   "nbconvert_exporter": "python",
   "pygments_lexer": "ipython3",
   "version": "3.8.5"
  }
 },
 "nbformat": 4,
 "nbformat_minor": 4
}
