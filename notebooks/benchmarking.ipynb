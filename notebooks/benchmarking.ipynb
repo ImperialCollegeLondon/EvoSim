{
 "cells": [
  {
   "cell_type": "markdown",
   "metadata": {},
   "source": [
    "# Benchmarks and Scaling\n",
    "\n",
    "We can benchmark the allocation algorithms and determine their behavior with respect\n",
    "to the size of the fleet and the number of charging posts. We simply need to create\n",
    "the fleets and charging posts and then run the algorithms via\n",
    "[timeit](https://docs.python.org/3.8/library/timeit.html), a\n",
    "timing module from the python standard library.\n",
    "\n",
    "Lets first define the sizes for which we will run benchmarks. We parametrize the\n",
    "benchmarks with the size of the fleet and the ratio between the number of charging\n",
    "posts and the size of the fleet, as well as the underlying algorithm."
   ]
  },
  {
   "cell_type": "code",
   "execution_count": null,
   "metadata": {
    "lines_to_next_cell": 1
   },
   "outputs": [],
   "source": [
    "from functools import partial\n",
    "from typing import Callable, Mapping, Optional\n",
    "\n",
    "import numpy as np\n",
    "import pandas as pd\n",
    "\n",
    "import evosim\n",
    "\n",
    "\n",
    "def benchmark_set(\n",
    "    nfleet=(10, 50),\n",
    "    ratios=(0.5, 1, 1.5),\n",
    "    algos=(\"greedy\", \"random\"),\n",
    "):\n",
    "    nfleet = np.array(nfleet)\n",
    "    ratios = np.array(ratios)\n",
    "    result = pd.DataFrame(\n",
    "        dict(\n",
    "            fleet=np.concatenate([nfleet] * (len(ratios) * len(algos))),\n",
    "            infrastructure=np.concatenate(\n",
    "                [np.round(nfleet * r).astype(int) for a in algos for r in ratios]\n",
    "            ),\n",
    "            ratio=np.concatenate([[r] * len(nfleet) for a in algos for r in ratios]),\n",
    "            algorithm=np.concatenate(\n",
    "                [[a] * len(nfleet) for a in algos for r in ratios]\n",
    "            ),\n",
    "        )\n",
    "    )\n",
    "    return result[[\"algorithm\", \"fleet\", \"infrastructure\", \"ratio\"]]\n",
    "\n",
    "\n",
    "benchmarks = benchmark_set(nfleet=(50, 100, 200), ratios=(0.8, 1))\n",
    "benchmarks"
   ]
  },
  {
   "cell_type": "markdown",
   "metadata": {},
   "source": [
    "Finally, we define a function to run the given algorithm for a given setup:"
   ]
  },
  {
   "cell_type": "code",
   "execution_count": null,
   "metadata": {},
   "outputs": [],
   "source": [
    "def run_benchmark(\n",
    "    row: pd.Series,\n",
    "    algos: Optional[Mapping] = None,\n",
    "    matcher: Optional[Callable] = None,\n",
    "    repetitions: int = 10,\n",
    "    **kwargs,\n",
    ") -> float:\n",
    "    from timeit import timeit\n",
    "    from evosim.matchers import socket_compatibility\n",
    "    from evosim.allocators import random_allocator, greedy_allocator\n",
    "\n",
    "    fleet = evosim.fleet.random_fleet(row.fleet, **kwargs)\n",
    "    infrastructure = evosim.charging_posts.random_charging_posts(\n",
    "        row.infrastructure, **kwargs\n",
    "    )\n",
    "    matcher = matcher or socket_compatibility\n",
    "    algos = algos or dict(\n",
    "        greedy=partial(greedy_allocator, leaf_size=200), random=random_allocator\n",
    "    )\n",
    "    inputs = dict(fleet=fleet, infrastructure=infrastructure, matcher=matcher, **algos)\n",
    "    return (\n",
    "        timeit(\n",
    "            f\"{row.algorithm}(fleet, infrastructure, matcher)\",\n",
    "            globals=inputs,\n",
    "            number=repetitions,\n",
    "        )\n",
    "        / repetitions\n",
    "    )"
   ]
  },
  {
   "cell_type": "markdown",
   "metadata": {},
   "source": [
    "We can run the benchmarks one after the other with ``pandas.DataFrame.apply``:"
   ]
  },
  {
   "cell_type": "code",
   "execution_count": null,
   "metadata": {
    "lines_to_next_cell": 2
   },
   "outputs": [],
   "source": [
    "benchmarks[\"timings\"] = benchmarks.apply(partial(run_benchmark, repetitions=3), axis=1)\n",
    "benchmarks.sample(5)"
   ]
  },
  {
   "cell_type": "markdown",
   "metadata": {},
   "source": [
    "The results above demonstrate how to benchmark the code. However it is done for a\n",
    "rather paltry number of cases. Indeed, the code in this notebook runs every time\n",
    "[EvoSim is modified](https://en.wikipedia.org/wiki/Test-driven_development>), so we\n",
    "want it to run fairly fast. For the purpose of plotting, lets read a few pre-generated\n",
    "benchmarks from [file](benchmarks.csv). These benchmarks were run on [1st generation\n",
    "AMD Epyc 7742](https://en.wikipedia.org/wiki/Epyc) on [Imperial College London's HPC\n",
    "system](https://www.imperial.ac.uk/admin-services/ict/self-service/research-support/rcs/)."
   ]
  },
  {
   "cell_type": "code",
   "execution_count": null,
   "metadata": {
    "lines_to_next_cell": 1
   },
   "outputs": [],
   "source": [
    "benchmarks = pd.read_csv(\"benchmarks.csv\")\n",
    "benchmarks.sample(5)"
   ]
  },
  {
   "cell_type": "markdown",
   "metadata": {
    "lines_to_next_cell": 0
   },
   "source": [
    "Finally, lets plot the benchmarks, including second order regressions. [Seaborn](\n",
    "https://seaborn.pydata.org/) makes it easy to throw a plot together. [Statsmodel](\n",
    "https://www.statsmodels.org/stable/index.html) could be used to create a more\n",
    "accurate timing model. Roughly examining the algorithms, we expect the following\n",
    "scaling:\n",
    "\n",
    "- the random algorithm is a brute force search to match electric vehicles and\n",
    "  compatible posts. For a given ratio of fleet size to number of matching posts, it\n",
    "  should scale as $\\mathcal{O}(n^2)$.\n",
    "- the greedy algorithm combines a $k$ nearest neighbor search to find posts closest to\n",
    "  each vehicle, and a brute force search for  a compatible post within the $k$ nearest\n",
    "  neighbpors. The [ball-tree algorithm](https://arxiv.org/abs/1210.6122), and\n",
    "  specifically, the construction of a ball-tree scales as\n",
    "  $\\mathcal{O}\\left(n\\log(n)^2\\right)$. Hence we expect a scaling of\n",
    "  $\\mathcal{O}\\left(k^2n\\log(n))^2\\right)$."
   ]
  },
  {
   "cell_type": "code",
   "execution_count": null,
   "metadata": {
    "lines_to_next_cell": 1
   },
   "outputs": [],
   "source": [
    "def plotting(data: pd.DataFrame):\n",
    "    import seaborn as sns\n",
    "\n",
    "    sns.set_theme(style=\"darkgrid\")\n",
    "    g = sns.lmplot(\n",
    "        x=\"fleet\", y=\"timing\", order=1, row=\"ratio\", col=\"algorithm\", data=data,\n",
    "    )\n",
    "    g = g.set_axis_labels(\"Fleet Size\", \"Time (s)\")\n",
    "\n",
    "\n",
    "plotting(benchmarks)"
   ]
  },
  {
   "cell_type": "markdown",
   "metadata": {},
   "source": [
    "In practice, in this problem setup, non-linear components barely make themselves heard\n",
    "and the scaling is roughly linear up to 500,000. It would be interesting to check the\n",
    "influence of the other parameters on running time, such as the greedy algorithm's\n",
    "`leaf_size` and `nearest_neighbors` options. We also expect that the complexity should\n",
    "increase were more restrictive matching constraints used, or with fleets and charging\n",
    "posts which are more difficult to match (e.g. to few of a given kind of post to\n",
    "accommodate a given kind of vehicle in the fleet)."
   ]
  }
 ],
 "metadata": {
  "jupytext": {
   "formats": "ipynb,py:percent"
  },
  "kernelspec": {
   "display_name": "Python 3",
   "language": "python",
   "name": "python3"
  },
  "language_info": {
   "codemirror_mode": {
    "name": "ipython",
    "version": 3
   },
   "file_extension": ".py",
   "mimetype": "text/x-python",
   "name": "python",
   "nbconvert_exporter": "python",
   "pygments_lexer": "ipython3",
   "version": "3.8.5"
  }
 },
 "nbformat": 4,
 "nbformat_minor": 4
}
