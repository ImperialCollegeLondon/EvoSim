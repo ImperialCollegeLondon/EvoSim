{
 "cells": [
  {
   "cell_type": "markdown",
   "metadata": {},
   "source": [
    "# How to use the python API to run a simple random allocation simulation\n",
    "\n",
    "This examples shows how to use the python API to:\n",
    "\n",
    "1. Create a fleet of electric vehicles\n",
    "1. Create a charging-post infrastructure\n",
    "1. Create a constraint\n",
    "1. Allocate fleet to infrastructure under some constraints\n",
    "1. Plot the density profile of distances from vehicle destination to charging post"
   ]
  },
  {
   "cell_type": "markdown",
   "metadata": {},
   "source": [
    "## Setting up the fleet, infrastructure, and constraint\n",
    "First we create the fleet. It is simply a pandas data-frame with a specific set of\n",
    "attributes (one attribute per column).  More attributes/columns can be added if\n",
    "required for a specific application.  Here, we generate the fleet randomly with a\n",
    "fairly minimal set. Run `evosim.fleet.random_fleet?` in a code-cell to see how to\n",
    "parametrize the random generation. The ``seed`` argument is optional. We give it here\n",
    "to ensure this notebook runs reproducibly during the tests and does not interfere with\n",
    "version control."
   ]
  },
  {
   "cell_type": "code",
   "execution_count": null,
   "metadata": {
    "lines_to_next_cell": 2
   },
   "outputs": [],
   "source": [
    "import numpy as np\n",
    "\n",
    "import evosim\n",
    "\n",
    "rng = np.random.default_rng(2)\n",
    "fleet = evosim.fleet.random_fleet(1000, seed=rng)\n",
    "fleet"
   ]
  },
  {
   "cell_type": "markdown",
   "metadata": {
    "lines_to_next_cell": 0
   },
   "source": [
    "Then we create the infrastructure of charging posts. Again, it is just a pandas\n",
    "data-frame with a specific set of columns. And again, it is filled with mostly random\n",
    "data. Arbitrarily, we've decided the capacity of the posts would range from 1 to 5 and\n",
    "the occupancy from 0 to 2."
   ]
  },
  {
   "cell_type": "code",
   "execution_count": null,
   "metadata": {},
   "outputs": [],
   "source": [
    "infrastructure = evosim.charging_posts.random_charging_posts(\n",
    "    len(fleet) // 3, capacity=5, occupancy=2, seed=rng\n",
    ")\n",
    "infrastructure"
   ]
  },
  {
   "cell_type": "markdown",
   "metadata": {
    "lines_to_next_cell": 0
   },
   "source": [
    "The random generation algorithm is smart enough to ensure the occupancy is always\n",
    "smaller or equal to the capacity."
   ]
  },
  {
   "cell_type": "code",
   "execution_count": null,
   "metadata": {},
   "outputs": [],
   "source": [
    "assert (infrastructure.occupancy <= infrastructure.capacity).all()"
   ]
  },
  {
   "cell_type": "markdown",
   "metadata": {
    "lines_to_next_cell": 0
   },
   "source": [
    "Now we can create a ``matcher`` function: a constraint which allows or disallows\n",
    "matching an electric vehicle with a charging post. Individual matchers can be found in\n",
    "``evosim.matchers``. But there is also a factory function which helps to generate a\n",
    "matcher function that is a combination of individual matchers. They are combined with\n",
    "``and`` logic: all individual constraints must be true for the match to be okayed."
   ]
  },
  {
   "cell_type": "code",
   "execution_count": null,
   "metadata": {},
   "outputs": [],
   "source": [
    "matcher = evosim.matchers.factory([\"socket_compatibility\", \"charger_compatibility\"])"
   ]
  },
  {
   "cell_type": "markdown",
   "metadata": {
    "lines_to_next_cell": 0
   },
   "source": [
    "We can match a single vehicle to a single post"
   ]
  },
  {
   "cell_type": "code",
   "execution_count": null,
   "metadata": {},
   "outputs": [],
   "source": [
    "matcher(fleet.loc[0], infrastructure.loc[1])"
   ]
  },
  {
   "cell_type": "markdown",
   "metadata": {
    "lines_to_next_cell": 0
   },
   "source": [
    "Or the full fleet to a single post"
   ]
  },
  {
   "cell_type": "code",
   "execution_count": null,
   "metadata": {},
   "outputs": [],
   "source": [
    "matcher(fleet, infrastructure.loc[1])"
   ]
  },
  {
   "cell_type": "markdown",
   "metadata": {
    "lines_to_next_cell": 0
   },
   "source": [
    "Or a single vehicle to the full infrastructure"
   ]
  },
  {
   "cell_type": "code",
   "execution_count": null,
   "metadata": {},
   "outputs": [],
   "source": [
    "matcher(fleet.loc[1], infrastructure)"
   ]
  },
  {
   "cell_type": "markdown",
   "metadata": {
    "lines_to_next_cell": 0
   },
   "source": [
    "Or we can match fleet and infrastructure element-wise: the first vehicle to the first\n",
    "post, the second to the second, and so on. However, this element-wise comparison only\n",
    "works if there are as many rows in fleet as in infrastructure. At time of writing, the\n",
    "error thrown by pandas is not particularly enlightening:"
   ]
  },
  {
   "cell_type": "code",
   "execution_count": null,
   "metadata": {},
   "outputs": [],
   "source": [
    "try:\n",
    "    matcher(fleet, infrastructure)\n",
    "except TypeError as e:\n",
    "    print(\"Yup, we got an error: \", e)"
   ]
  },
  {
   "cell_type": "markdown",
   "metadata": {
    "lines_to_next_cell": 0
   },
   "source": [
    "But we can make the comparison work as follows:"
   ]
  },
  {
   "cell_type": "code",
   "execution_count": null,
   "metadata": {},
   "outputs": [],
   "source": [
    "matcher(fleet.iloc[: len(infrastructure)], infrastructure)"
   ]
  },
  {
   "cell_type": "markdown",
   "metadata": {
    "lines_to_next_cell": 0
   },
   "source": [
    "## Running the allocation algorithm\n",
    "The matcher can be used to constrain the allocation of vehicles to posts. Below, we\n",
    "use the *random* allocator for this purpose. It allocates any vehicle to any post, as\n",
    "long as the matcher okays it:"
   ]
  },
  {
   "cell_type": "code",
   "execution_count": null,
   "metadata": {},
   "outputs": [],
   "source": [
    "fleet_allocation = evosim.allocators.random_allocator(fleet, infrastructure, matcher)\n",
    "fleet_allocation"
   ]
  },
  {
   "cell_type": "markdown",
   "metadata": {
    "lines_to_next_cell": 0
   },
   "source": [
    "## Analysis and plots\n",
    "We are now in a position to analyse the results. First we will take a look at the\n",
    "unallocated vehicles. Then we will plot the distribution of distances from each\n",
    "vehicles destination to each charging post.\n",
    "Allocated and unallocated vehicles can be obtained as:"
   ]
  },
  {
   "cell_type": "code",
   "execution_count": null,
   "metadata": {},
   "outputs": [],
   "source": [
    "unallocated_fleet = fleet[fleet_allocation.allocation.isna()]\n",
    "allocated_fleet = fleet_allocation[fleet_allocation.allocation.notna()]"
   ]
  },
  {
   "cell_type": "markdown",
   "metadata": {
    "lines_to_next_cell": 0
   },
   "source": [
    "We can update the infrastructure to account for newly occupied posts. Note that the\n",
    "infrastructure is copied with ``deep=True`` to ensure that changing the occupancy in\n",
    "``new_infrastructure`` does not affect the original dataframe."
   ]
  },
  {
   "cell_type": "code",
   "execution_count": null,
   "metadata": {},
   "outputs": [],
   "source": [
    "new_infrastructure = infrastructure.copy(deep=True)\n",
    "new_occupancy = allocated_fleet.groupby(\"allocation\").allocation.count()\n",
    "new_infrastructure.loc[new_occupancy.index, \"occupancy\"] += new_occupancy"
   ]
  },
  {
   "cell_type": "markdown",
   "metadata": {
    "lines_to_next_cell": 0
   },
   "source": [
    "Now we plot the number allocated and unallocated infrastructure and vehicles"
   ]
  },
  {
   "cell_type": "code",
   "execution_count": null,
   "metadata": {},
   "outputs": [],
   "source": [
    "from bokeh.io import output_notebook, show\n",
    "from bokeh.plotting import figure\n",
    "\n",
    "output_notebook()\n",
    "allocation_data = {\n",
    "    \"type\": [\"Initial Infrastructure\", \"Final Infrastructure\", \"Fleet\"],\n",
    "    \"allocated\": [\n",
    "        infrastructure.occupancy.sum(),\n",
    "        new_infrastructure.occupancy.sum(),\n",
    "        len(allocated_fleet),\n",
    "    ],\n",
    "    \"unallocated\": [\n",
    "        (infrastructure.capacity - infrastructure.occupancy).sum(),\n",
    "        (new_infrastructure.capacity - new_infrastructure.occupancy).sum(),\n",
    "        len(allocated_fleet),\n",
    "    ],\n",
    "}\n",
    "\n",
    "barplot = figure(\n",
    "    x_range=allocation_data[\"type\"],\n",
    "    height=200,\n",
    "    title=\"Infrastructure and vehicle allocation\",\n",
    ")\n",
    "barplot.vbar_stack(\n",
    "    [\"allocated\", \"unallocated\"],\n",
    "    x=\"type\",\n",
    "    width=0.9,\n",
    "    source=allocation_data,\n",
    "    color=[\"darkgrey\", \"lightgrey\"],\n",
    "    alpha=[1, 0.5],\n",
    "    legend_label=[\"allocated\", \"unallocated\"],\n",
    ")\n",
    "barplot.y_range.start = 0\n",
    "barplot.legend.location = \"top_left\"\n",
    "barplot.legend.orientation = \"horizontal\"\n",
    "show(barplot)"
   ]
  },
  {
   "cell_type": "markdown",
   "metadata": {},
   "source": [
    "To plot the density profile, we need the distance from the vehicle destinations to the\n",
    "allocated charging posts. We use the ``evosim``'s objective function for that purpose.\n",
    "The objective function expects two dataframe arguments, each with a \"latitude\" and a\n",
    "\"longitude\" column. Hence, we first rename the destination columns of the\n",
    "``allocated_fleet``. Also note that since the objective function compares dataframes,\n",
    "they must conform to the same index."
   ]
  },
  {
   "cell_type": "code",
   "execution_count": null,
   "metadata": {},
   "outputs": [],
   "source": [
    "distance = evosim.objectives.distance(\n",
    "    (\n",
    "        allocated_fleet[[\"dest_lat\", \"dest_long\"]].rename(\n",
    "            columns=dict(dest_lat=\"latitude\", dest_long=\"longitude\")\n",
    "        )\n",
    "    ),\n",
    "    infrastructure.loc[allocated_fleet.allocation].set_index(allocated_fleet.index),\n",
    ")\n",
    "\n",
    "density_plot = figure(title=\"Distance to charging post\",)\n",
    "y, x = np.histogram(distance, bins=20)\n",
    "density_plot.line((x[1:] + x[:-1]) / 2, y)\n",
    "show(density_plot)"
   ]
  }
 ],
 "metadata": {
  "jupytext": {
   "formats": "ipynb,py:percent"
  },
  "kernelspec": {
   "display_name": "Python 3",
   "language": "python",
   "name": "python3"
  },
  "language_info": {
   "codemirror_mode": {
    "name": "ipython",
    "version": 3
   },
   "file_extension": ".py",
   "mimetype": "text/x-python",
   "name": "python",
   "nbconvert_exporter": "python",
   "pygments_lexer": "ipython3",
   "version": "3.8.5"
  }
 },
 "nbformat": 4,
 "nbformat_minor": 4
}
